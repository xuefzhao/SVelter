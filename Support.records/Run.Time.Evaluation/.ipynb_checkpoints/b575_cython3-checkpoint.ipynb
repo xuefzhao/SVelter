{
 "cells": [
  {
   "cell_type": "markdown",
   "metadata": {},
   "source": [
    "# Cython tutorial"
   ]
  },
  {
   "cell_type": "markdown",
   "metadata": {},
   "source": [
    "If you are using Anaconda, Cython comes with the build. If you are not, there are two really easy options. To find\n",
    "out if you have it, open ipython and type"
   ]
  },
  {
   "cell_type": "code",
   "execution_count": null,
   "metadata": {
    "collapsed": true
   },
   "outputs": [],
   "source": [
    "import cython"
   ]
  },
  {
   "cell_type": "markdown",
   "metadata": {},
   "source": [
    "If it gave you some grief, you don't have it. In the terminal you can type one of these two choices depending on \n",
    "your build: The first, if you aren't using Anaconda"
   ]
  },
  {
   "cell_type": "code",
   "execution_count": null,
   "metadata": {
    "collapsed": true
   },
   "outputs": [],
   "source": [
    "pip install cython"
   ]
  },
  {
   "cell_type": "markdown",
   "metadata": {},
   "source": [
    "The second, if you are using Anaconda but Cython is not available:"
   ]
  },
  {
   "cell_type": "code",
   "execution_count": null,
   "metadata": {
    "collapsed": true
   },
   "outputs": [],
   "source": [
    "conda install cython"
   ]
  },
  {
   "cell_type": "markdown",
   "metadata": {},
   "source": [
    "## Housekeeping with setup.py"
   ]
  },
  {
   "cell_type": "markdown",
   "metadata": {},
   "source": [
    "This first set of code should be saved into the same file as the script you're working from. This script should be saved as 'setup.py'."
   ]
  },
  {
   "cell_type": "code",
   "execution_count": null,
   "metadata": {
    "collapsed": true
   },
   "outputs": [],
   "source": [
    "from distutils.core import setup\n",
    "from Cython.Build import cythonize\n",
    "\n",
    "setup(\n",
    "    ext_modules = cythonize(\"<name_of_script.pyx>\")\n",
    ")"
   ]
  },
  {
   "cell_type": "markdown",
   "metadata": {},
   "source": [
    "## Getting to the script itself"
   ]
  },
  {
   "cell_type": "markdown",
   "metadata": {},
   "source": [
    "The first step is to make the file itself. Over the course of the next couple scripts, you will be making variations of a file called circle. Let's start with circle.py. In the circle.py file, type the following:"
   ]
  },
  {
   "cell_type": "code",
   "execution_count": null,
   "metadata": {
    "collapsed": true
   },
   "outputs": [],
   "source": [
    "import math\n",
    "\n",
    "def great_circle(lon1,lat1,lon2,lat2):\n",
    "    radius = 3956 #miles\n",
    "    x = math.pi/180.0\n",
    "\n",
    "    a = (90.0-lat1)*(x)\n",
    "    b = (90.0-lat2)*(x)\n",
    "    theta = (lon2-lon1)*(x)\n",
    "    c = math.acos((math.cos(a)*math.cos(b)) +\n",
    "                  (math.sin(a)*math.sin(b)*math.cos(theta)))\n",
    "    return radius*c"
   ]
  },
  {
   "cell_type": "markdown",
   "metadata": {},
   "source": [
    "open an ipython console and type the following:"
   ]
  },
  {
   "cell_type": "code",
   "execution_count": null,
   "metadata": {
    "collapsed": true
   },
   "outputs": [],
   "source": [
    "import os\n",
    "# this is only needed if you didn't open ipython from the directory that contains circle.py\n",
    "os.chdir(\"<path/to/circle.py>\") \n",
    "import circle"
   ]
  },
  {
   "cell_type": "code",
   "execution_count": null,
   "metadata": {
    "collapsed": true
   },
   "outputs": [],
   "source": [
    "lon1, lat1, lon2, lat2 = -72.345, 34.323, -61.823, 54.826\n",
    "num = 500000"
   ]
  },
  {
   "cell_type": "code",
   "execution_count": null,
   "metadata": {
    "collapsed": true
   },
   "outputs": [],
   "source": [
    "# Through the magic of ipython magics, let's test out our circle.py\n",
    "%timeit -n3 -r100 circle.great_circle(lon1, lat1, lon2, lat2)"
   ]
  },
  {
   "cell_type": "markdown",
   "metadata": {},
   "source": [
    "## How did it go?"
   ]
  },
  {
   "cell_type": "markdown",
   "metadata": {},
   "source": [
    "There are some things that need to happen. First, change your circle.py filename to circle.pyx. This can be done in\n",
    "the terminal with this command:"
   ]
  },
  {
   "cell_type": "code",
   "execution_count": null,
   "metadata": {
    "collapsed": true
   },
   "outputs": [],
   "source": [
    "mv ./circle.py ./circle.pyx"
   ]
  },
  {
   "cell_type": "markdown",
   "metadata": {},
   "source": [
    "Go into that setup.py file I had you make and change the script name to circle.pyx. Save & exit, and type the\n",
    "following into the terminal:"
   ]
  },
  {
   "cell_type": "code",
   "execution_count": null,
   "metadata": {
    "collapsed": true
   },
   "outputs": [],
   "source": [
    "python setup.py build_ext --inplace"
   ]
  },
  {
   "cell_type": "markdown",
   "metadata": {},
   "source": [
    "You just compiled your first python script...kind of. Now, go back to your ipython console and run it again. \n",
    "Anything change?\n",
    "This was just cythonizing your pure python code. Often, this step alone can speed some things up...but we can do\n",
    "better."
   ]
  },
  {
   "cell_type": "markdown",
   "metadata": {},
   "source": [
    "To make things a little faster, we can do what is called type setting. Don't know what that is? Don't worry,\n",
    "all it means is that we are explicitly telling the computer what kind of data it is processing instead of it \n",
    "cycling through each type until it finds the right one. So, to do that, make the following changes to your\n",
    "circle.pyx file:"
   ]
  },
  {
   "cell_type": "code",
   "execution_count": null,
   "metadata": {
    "collapsed": true
   },
   "outputs": [],
   "source": [
    "# ...\n",
    "def great_circle(float lon1,float lat1,float lon2,float lat2):\n",
    "    cdef float radius = 3956.0 \n",
    "    cdef float pi = 3.14159265\n",
    "    cdef float x = pi/180.0\n",
    "    cdef float a,b,theta,c\n",
    "# ..."
   ]
  },
  {
   "cell_type": "markdown",
   "metadata": {},
   "source": [
    "Save & exit, recompile, go back to your ipython console, and run it again. Anything change?"
   ]
  },
  {
   "cell_type": "markdown",
   "metadata": {},
   "source": [
    "There is still some bottlenecking happening because python isn't really that good at math. We can fix this by using\n",
    "the C standard library. To do this, append & save your circle.pyx file with the following code:"
   ]
  },
  {
   "cell_type": "code",
   "execution_count": null,
   "metadata": {
    "collapsed": true
   },
   "outputs": [],
   "source": [
    "# Replace import math with this code\n",
    "cdef extern from \"math.h\":\n",
    "    float cosf(float theta)\n",
    "    float sinf(float theta)\n",
    "    float acosf(float theta)\n",
    "# ..."
   ]
  },
  {
   "cell_type": "markdown",
   "metadata": {},
   "source": [
    "Compile and run again from the ipython console. Anything change?"
   ]
  },
  {
   "cell_type": "markdown",
   "metadata": {},
   "source": [
    "There is really only one more thing to do to REALLY speed things up. Since we made the data more 'C'-like, and\n",
    "we are using the C standard library, the only thing left is to make the function itself more 'C'-like. Make & save the following changes to your circle.pyx file:"
   ]
  },
  {
   "cell_type": "code",
   "execution_count": null,
   "metadata": {
    "collapsed": true
   },
   "outputs": [],
   "source": [
    "cdef float _great_circle(float lon1,float lat1,float lon2,float lat2):\n",
    "    cdef float radius = 3956.0 \n",
    "    cdef float pi = 3.14159265\n",
    "    cdef float x = pi/180.0\n",
    "    cdef float a,b,theta,c\n",
    "\n",
    "    a = (90.0-lat1)*(x)\n",
    "    b = (90.0-lat2)*(x)\n",
    "    theta = (lon2-lon1)*(x)\n",
    "    c = acosf((cosf(a)*cosf(b)) + (sinf(a)*sinf(b)*cosf(theta)))\n",
    "    return radius*c\n",
    "\n",
    "def great_circle(float lon1,float lat1,float lon2,float lat2,int num):\n",
    "    cdef int i\n",
    "    cdef float x\n",
    "    for i from 0 < = i < num:\n",
    "        x = _great_circle(lon1,lat1,lon2,lat2)\n",
    "    return x"
   ]
  },
  {
   "cell_type": "markdown",
   "metadata": {},
   "source": [
    "Compile and run in ipython console. Did anything change?\n",
    "The only thing we can really do past this is to write the code strictly in C. That is a bit outside the scope of this\n",
    "class-let alone lecture. Suffice to say, the difference between our code and the C code is unnoticably small."
   ]
  },
  {
   "cell_type": "code",
   "execution_count": null,
   "metadata": {
    "collapsed": true
   },
   "outputs": [],
   "source": []
  }
 ],
 "metadata": {
  "kernelspec": {
   "display_name": "Python 2",
   "language": "python",
   "name": "python2"
  },
  "language_info": {
   "codemirror_mode": {
    "name": "ipython",
    "version": 2
   },
   "file_extension": ".py",
   "mimetype": "text/x-python",
   "name": "python",
   "nbconvert_exporter": "python",
   "pygments_lexer": "ipython2",
   "version": "2.7.11"
  }
 },
 "nbformat": 4,
 "nbformat_minor": 0
}
